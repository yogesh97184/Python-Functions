{
  "nbformat": 4,
  "nbformat_minor": 0,
  "metadata": {
    "colab": {
      "provenance": []
    },
    "kernelspec": {
      "name": "python3",
      "display_name": "Python 3"
    },
    "language_info": {
      "name": "python"
    }
  },
  "cells": [
    {
      "cell_type": "markdown",
      "source": [
        "# Assignment Functions :\n",
        "# Theory Questions"
      ],
      "metadata": {
        "id": "C4rjqNfEwB8J"
      }
    },
    {
      "cell_type": "markdown",
      "source": [
        "Q1. What is the difference between a function and a method in Python?\n",
        " -  a function is a block of code that is defined to perform a specific task, and it can be called anywhere in your program.\n",
        "   - Example :\n",
        "               def greet(name): return \"Hello, \" + name\n",
        "               print(greet(\"Millan\")) # Calling the function\n",
        " - A method is a function that is associated with an object. It's a function that is defined within a class and is called on an instance of that class.\n",
        "  - Example : class Person: def init(self, name): self.name = name\n",
        "              def greet(self):\n",
        "               return \"Hello, \" + self.name\n",
        "  p = Person(\"ReX\") print(p.greet()) # Calling the method on an object     \n",
        "\n",
        "              "
      ],
      "metadata": {
        "id": "U9-GvV7GwWKN"
      }
    },
    {
      "cell_type": "markdown",
      "source": [
        "Q2. Explain the concept of function arguments and parameters in Python.\n",
        " -  function arguments and parameters are related concepts that help you pass data into functions.\n",
        "   - Function definition with parameters (x and y)\n",
        "            def add(x, y): return x + y\n",
        " -  Parameters are variables that are listed inside the function definition. They act as placeholders for the values that will be passed to the function. Arguments are the actual values you pass to the function when you call it. Example:\n",
        "   - Function call with arguments (3 and 5)\n",
        "            result = add(3, 5)\n",
        "            print(result) # Output: 8"
      ],
      "metadata": {
        "id": "frZJkPpVyND-"
      }
    },
    {
      "cell_type": "markdown",
      "source": [
        "Q3. What are the different ways to define and call a function in Python?\n",
        "  -  there are several ways to define and call a function. Below are the different methods:\n",
        "    -  Basic Function Definition You define a function using the def keyword, followed by the function name and parameters.\n",
        "       -  Example : Function definition\n",
        "             def greet(name): return \"Hello, \" + name\n",
        "       -  Example : Function call\n",
        "             print(greet(\"Millan\")) # Output: Hello, Millan\n",
        "   -  Function with Default Parameters You can define default values for parameters. If the caller doesn't provide a value for that parameter, the default is used.\n",
        "       - Example :\n",
        "                    def greet(name=\"Guest\"): return \"Hello, \" + name\n",
        "                    print(greet()) # Output: Hello, Guest print(greet(\"ReX\")) # Output: Hello, ReX 3. Function with Variable Number of Arguments (*args) You can define a function that accepts a variable number of arguments using *args.\n",
        "\n",
        "       - Example:\n",
        "\n",
        "                   def greet(*names): for name in names: print(\"Hello, \" + name)\n",
        "                   greet(\"Yash\", \"Kumar\", \"Ram\")   \n",
        "       - Outputs :\n",
        "             Output:\n",
        "             Hello, Yash\n",
        "             Hello, Kumar\n",
        "             Hello, Ram  \n",
        "     - Function with Keyword Arguments (**kwargs) You can also pass a variable number of keyword arguments using **kwargs. This allows you to pass values as key-value pairs.\n",
        "      - Example :\n",
        "                def greet(**people): for name, greeting in people.items(): print(greeting + \", \" + name)\n",
        "                greet(Yash=\"Good morning\", Kumar=\"Hello\", Ram=\"Hey\")\n",
        "      - Output:\n",
        "                Good morning, Yash\n",
        "                Hello, Kumar\n",
        "                Hey, Ram\n",
        "     - Lambda Functions (Anonymous Functions) A lambda function is a small, anonymous function defined using the lambda keyword.  \n",
        "       - Example:\n",
        "       - add = lambda x, y: x + y print(add(3, 5)) # Output: 8 6. Function as an Argument You can pass a function as an argument to another function.\n",
        "       - Example: python Copy code def call_function(func, x, y): return func(x, y)\n",
        "       - def multiply(x, y): return x * y\n",
        "       - result = call_function(multiply, 3, 4) print(result) # Output: 12 7. Nested Functions (Function Inside Another Function) A function can be defined inside another function. This is called a nested function.\n",
        "       - Example:\n",
        "       - def outer_function(): def inner_function(): print(\"This is the inner function.\") inner_function()outer_function() # Output: This is the inner function.                                                         "
      ],
      "metadata": {
        "id": "PNWVywsQysWw"
      }
    },
    {
      "cell_type": "markdown",
      "source": [
        "Q4.What is the purpose of the return statement in a Python function?\n",
        " - The purpose of the return statement in a Python function is to send a result or value back to the caller. It allows the function to provide an output after performing its operations, which can then be used or stored in a variable.\n",
        " - Example:\n",
        "            def add(x, y): result = x + y return result # This sends the result back to the caller\n",
        "            sum_value = add(3, 5) # Calling the function and storing the returned value print(sum_value) # Output: 8"
      ],
      "metadata": {
        "id": "hY1WalpH19WZ"
      }
    },
    {
      "cell_type": "markdown",
      "source": [
        "Q5. What are iterators in Python and how do they differ from iterables?\n",
        "  - Iterable: An object that can be looped over (like a list, string, or tuple). It provides an iterator when you call iter() on it.Iterator: An object that keeps track of the current position and gives you one item at a time when you call next().\n",
        "  - Example :-\n",
        "    - Iterable: A list\n",
        "     - numbers = [1, 2, 3]\n",
        "    - Create an iterator from the iterable\n",
        "     - iterator = iter(numbers)\n",
        "    - Use the iterator to get items one by one\n",
        "     - print(next(iterator)) # Output: 1 print(next(iterator)) # Output: 2 print(next(iterator)) # Output: 3\n",
        "\n",
        "\n",
        "\n",
        "  "
      ],
      "metadata": {
        "id": "qqZrDHJ42OUz"
      }
    },
    {
      "cell_type": "code",
      "execution_count": null,
      "metadata": {
        "id": "NXwBXRCrvrG-"
      },
      "outputs": [],
      "source": []
    },
    {
      "cell_type": "markdown",
      "source": [
        "Q6. Explain the concept of generators in Python and how they are defined.\n",
        " - A generator in Python is a special type of function that allows you to generate a sequence of values one at a time, instead of returning all values at once like a regular function. This is helpful when working with large data sets because it saves memory.\n",
        " - Example:-\n",
        "   - generator function\n",
        "    - def count_up_to(max): count = 1 while count <= max: yield count # Yield the current value of count count += 1 # Move to the next number\n",
        "   - Create a generator object\n",
        "    - counter = count_up_to(5)\n",
        "   - Get values from the generator\n",
        "                print(next(counter)) # Output: 1\n",
        "                print(next(counter)) # Output: 2\n",
        "                print(next(counter)) # Output: 3\n",
        "                print(next(counter)) # Output: 4\n",
        "                print(next(counter)) # Output: 5\n",
        "                \n",
        "\n"
      ],
      "metadata": {
        "id": "DVdTIrSf24is"
      }
    },
    {
      "cell_type": "markdown",
      "source": [
        "Q7. What are the advantages of using generators over regular functions?\n",
        " - Generators have several advantages over regular functions when it comes to handling large data or sequences.\n",
        " - Advantages of Generators: Memory Efficiency:\n",
        "  - Generators do not store all values in memory at once. Instead, they generate values one at a time when needed, which is more efficient for large datasets. Lazy Evaluation:\n",
        "  - Generators only calculate values when they are required. This means they don’t do unnecessary work, which can improve performance. Convenience:\n",
        "  - Generators are often easier to write and more readable for iterating over data compared to creating complex loops.\n",
        " - Example:-\n",
        "  - Regular Function (Returns all values at once):\n",
        "  - def get_numbers(): numbers = [] for i in range(1, 6): numbers.append(i) return numbers\n",
        "  - result = get_numbers() print(result) # Output: [1, 2, 3, 4, 5]\n",
        "  - Generator (Yields values one by one):\n",
        "  - def get_numbers(): for i in range(1, 6): yield  \n",
        "              generator = get_numbers() print(next(generator)) # Output: 1\n",
        "              print(next(generator)) # Output: 2\n",
        "              print(next(generator)) # Output: 3\n",
        "              print(next(generator)) # Output: 4  \n",
        "              print(next(generator)) # Output: 5\n",
        "\n",
        "\n",
        "\n"
      ],
      "metadata": {
        "id": "iI5wlYlH3cuh"
      }
    },
    {
      "cell_type": "markdown",
      "source": [
        "Q8. What is a lambda function in Python and when is it typically used?\n",
        " - A lambda function in Python is a small, simple function that is defined using the lambda keyword. It can take any number of inputs but only has one line of code that gets executed, and it automatically returns a result.\n",
        " - Syntax\n",
        "  - A lambda function that adds two numbers\n",
        "             add = lambda x, y: x + y\n",
        "  - Calling the lambda function\n",
        "             print(add(3, 5)) # Output: 8\n",
        "  - Use of Lambda:-\n",
        "    - Small, one-time tasks: When you need a quick function that doesn't need a full definition with def. Passing as arguments: Often used in functions like map(), filter(), or sorted() where you need a simple function temporarily.        \n",
        "                     "
      ],
      "metadata": {
        "id": "jt03BtT54dPC"
      }
    },
    {
      "cell_type": "markdown",
      "source": [
        "Q9. Explain the purpose and usage of the map() function in Python\n",
        " - The map() function in Python is used to apply a function to each item in a collection (like a list, tuple, or string). It helps you process each element in the collection without needing to write a loop.\n",
        "  - Purpose:\n",
        "    - The main purpose of map() is to apply a function to every item in an iterable (a list, for example) and return a new collection with the results. Syntax:\n",
        "    - map(function, iterable)\n",
        "    - function: The function that will be applied to each item in the iterable. iterable: The collection (like a list or tuple) of items you want to modify.\n",
        "  - Example:\n",
        "    - A function that squares a number\n",
        "                 def square(x): return x * x\n",
        "    - A list of numbers\n",
        "                 numbers = [1, 2, 3, 4, 5]\n",
        "    - Apply the square function to each number in the list using map()\n",
        "                squared_numbers = map(square, numbers)\n",
        "    - Convert the map object to a list and print the result\n",
        "                print(list(squared_numbers)) # Output: [1, 4, 9, 16, 25]\n",
        "\n",
        "\n",
        "\n",
        "\n",
        "\n",
        "  \n"
      ],
      "metadata": {
        "id": "ZXUclv0A5GZE"
      }
    },
    {
      "cell_type": "markdown",
      "source": [
        "Q10. What is the difference between map(), reduce(), and filter() functions in Python ?\n",
        " - The map(), reduce(), and filter() functions in Python are all used to process collections (like lists or tuples), but they have different purposes and behaviors.\n",
        "  - map() function: Purpose: Applies a function to every item in a collection (like a list) and returns a new collection with the results. Output: A new collection (like a list) with transformed items. Example:\n",
        "   - Function to square a number\n",
        "                   def square(x): return x * x\n",
        "                   numbers = [1, 2, 3, 4]\n",
        "   - Using map to square each number in the list\n",
        "     - squared_numbers = map(square, numbers) print(list(squared_numbers)) # Output: [1, 4, 9, 16] 2. reduce() function: Purpose: Applies a function to reduce a collection of items into a single value (it works by combining items one by one). Output: A single result after combining all the items.\n",
        "     - Example: from functools import reduce\n",
        "       - Function to add two numbers\n",
        "                    def add(x, y): return x + y\n",
        "                    numbers = [1, 2, 3, 4]\n",
        "  - Using reduce to sum all the numbers in the list\n",
        "    - total = reduce(add, numbers) print(total) # Output: 10 3. filter() function: Purpose: Filters the items in a collection based on a condition. It keeps only the items for which the function returns True. Output: A new collection with only the items that meet the condition.\n",
        "    - Example:\n",
        "      - Function to check if a number is even\n",
        "                     def is_even(x): return x % 2 == 0\n",
        "                     numbers = [1, 2, 3, 4]\n",
        "   - Using filter to keep only even numbers\n",
        "    - even_numbers = filter(is_even, numbers) print(list(even_numbers)) # Output: [2, 4]\n",
        "\n",
        "\n",
        "                \n",
        "      \n",
        "               \n",
        "\n"
      ],
      "metadata": {
        "id": "ShSalE4a57aQ"
      }
    },
    {
      "cell_type": "code",
      "source": [
        "### Q1. Write a Python function that takes a list of numbers as input and returns the sum of all even numbers in the list.\n",
        "\n",
        "#Answer:-\n",
        "\n",
        "def sum_of_even_numbers(numbers):\n",
        "    return sum(num for num in numbers if num % 2 == 0)\n",
        "\n",
        "numbers = [1, 2, 3, 4, 5, 6, 7, 8, 9]\n",
        "result = sum_of_even_numbers(numbers)\n",
        "print(result)"
      ],
      "metadata": {
        "colab": {
          "base_uri": "https://localhost:8080/"
        },
        "id": "3KsEMJw67gL-",
        "outputId": "447d4566-cd6a-47d7-9cea-df5496f38aa8"
      },
      "execution_count": 3,
      "outputs": [
        {
          "output_type": "stream",
          "name": "stdout",
          "text": [
            "20\n"
          ]
        }
      ]
    },
    {
      "cell_type": "code",
      "source": [
        "### Q2. Create a Python function that accepts a string and returns the reverse of that string ?\n",
        "\n",
        "#Answer:-\n",
        "\n",
        "def reverse_string(input_string):\n",
        "    return input_string[::-1]\n",
        "\n",
        "print(reverse_string(\"Yogesh\"))"
      ],
      "metadata": {
        "colab": {
          "base_uri": "https://localhost:8080/"
        },
        "id": "D-g7VRbt8Mdb",
        "outputId": "fbe2469d-3042-45f2-cf24-1b09bb49c5ec"
      },
      "execution_count": 4,
      "outputs": [
        {
          "output_type": "stream",
          "name": "stdout",
          "text": [
            "hsegoY\n"
          ]
        }
      ]
    },
    {
      "cell_type": "code",
      "source": [
        "### Q3.  Implement a Python function that takes a list of integers and returns a new list containing the squares of each number.\n",
        "#Answer:-\n",
        "\n",
        "def square_numbers(numbers):\n",
        "    return [x ** 2 for x in numbers]\n",
        "    numbers = [1, 2, 3, 4, 5]\n",
        "squared = square_numbers(numbers)\n",
        "print(squared)"
      ],
      "metadata": {
        "colab": {
          "base_uri": "https://localhost:8080/"
        },
        "id": "8OfhLvi98Shy",
        "outputId": "c7ff38b1-f03d-4d97-e250-3ee381ee8a80"
      },
      "execution_count": 5,
      "outputs": [
        {
          "output_type": "stream",
          "name": "stdout",
          "text": [
            "[1, 4, 9, 16, 25, 36, 49, 64, 81]\n"
          ]
        }
      ]
    },
    {
      "cell_type": "code",
      "source": [
        "\n",
        "### Q4. Write a Python function that checks if a given number is prime or not from 1 to 200\n",
        "\n",
        "#Answer:-\n",
        "def is_prime(number):\n",
        "    if number < 2 or number > 200:\n",
        "        return \"Number must be between 1 and 200\"\n",
        "    for i in range(2, int(number ** 0.5) + 1):\n",
        "        if number % i == 0:\n",
        "            return False\n",
        "    return True\n",
        "\n",
        "    print(is_prime(29))  # Output: True\n",
        "print(is_prime(200))  # Output: False"
      ],
      "metadata": {
        "colab": {
          "base_uri": "https://localhost:8080/"
        },
        "id": "hZzQgsXG8YeK",
        "outputId": "2b5fdae7-f9bb-4345-8040-94b3bc35dcdd"
      },
      "execution_count": 6,
      "outputs": [
        {
          "output_type": "stream",
          "name": "stdout",
          "text": [
            "False\n"
          ]
        }
      ]
    },
    {
      "cell_type": "code",
      "source": [
        "### Q5.  Create an iterator class in Python that generates the Fibonacci sequence up to a specified number of terms.\n",
        "\n",
        "#Answer:-\n",
        "\n",
        "class FibonacciIterator:\n",
        "    def __init__(self, n):\n",
        "        self.n = n  # Number of terms in the sequence\n",
        "        self.a, self.b = 0, 1  # Initialize the first two Fibonacci numbers\n",
        "        self.count = 0  # To keep track of the number of terms generated\n",
        "\n",
        "    def __iter__(self):\n",
        "        return self  # The class itself is the iterator\n",
        "\n",
        "    def __next__(self):\n",
        "        if self.count >= self.n:  # If we've generated 'n' terms, stop the iteration\n",
        "            raise StopIteration\n",
        "        else:\n",
        "            self.count += 1\n",
        "            self.a, self.b = self.b, self.a + self.b  # Generate the next Fibonacci number\n",
        "            return self.a\n",
        "\n",
        "\n",
        "fib = FibonacciIterator(10)  # Generate first 10 Fibonacci numbers\n",
        "for num in fib:\n",
        "    print(num)\n"
      ],
      "metadata": {
        "colab": {
          "base_uri": "https://localhost:8080/"
        },
        "id": "uYJUORh18cgg",
        "outputId": "59c6826f-aae0-4b67-de67-bc241551ba1a"
      },
      "execution_count": 7,
      "outputs": [
        {
          "output_type": "stream",
          "name": "stdout",
          "text": [
            "1\n",
            "1\n",
            "2\n",
            "3\n",
            "5\n",
            "8\n",
            "13\n",
            "21\n",
            "34\n",
            "55\n"
          ]
        }
      ]
    },
    {
      "cell_type": "code",
      "source": [
        "### Q6.  Write a generator function in Python that yields the powers of 2 up to a given exponent.\n",
        "\n",
        "#Answer:\n",
        "\n",
        "def powers_of_two(exponent):\n",
        "    for i in range(exponent + 1):\n",
        "        yield 2 ** i\n",
        "\n",
        "for power in powers_of_two(5):\n",
        "    print(power)\n",
        ""
      ],
      "metadata": {
        "colab": {
          "base_uri": "https://localhost:8080/"
        },
        "id": "MsF4J7ul8gDd",
        "outputId": "6609ff2a-cfff-42f0-a065-74787523961b"
      },
      "execution_count": 8,
      "outputs": [
        {
          "output_type": "stream",
          "name": "stdout",
          "text": [
            "1\n",
            "2\n",
            "4\n",
            "8\n",
            "16\n",
            "32\n"
          ]
        }
      ]
    },
    {
      "cell_type": "code",
      "source": [
        "### Q7. Implement a generator function that reads a file line by line and yields each line as a string.\n",
        "\n",
        "#Answer:-\n",
        "\n",
        "\n",
        "def read_file_lines(file_path):\n",
        "  \"\"\"\n",
        "  Reads a file line by line and yields each line as a string.\n",
        "\n",
        "  Args:\n",
        "    file_path: The path to the file to read.\n",
        "\n",
        "  Yields:\n",
        "    Each line of the file as a string.\n",
        "  \"\"\"\n",
        "  with open(file_path, 'r') as file:\n",
        "    for line in file:\n",
        "      yield line.strip()\n",
        "\n"
      ],
      "metadata": {
        "id": "REBvskeF8lr7"
      },
      "execution_count": 9,
      "outputs": []
    },
    {
      "cell_type": "code",
      "source": [
        "### Q8. Use a lambda function in Python to sort a list of tuples based on the second element of each tuple.\n",
        "\n",
        "#Answer:-\n",
        "\n",
        "# List of tuples\n",
        "tuples_list = [(1, 4), (2, 1), (3, 3), (4, 2)]\n",
        "\n",
        "# Sorting the list based on the second element of each tuple using a lambda function\n",
        "sorted_list = sorted(tuples_list, key=lambda x: x[1])\n",
        "\n",
        "# Print the sorted list\n",
        "print(sorted_list)"
      ],
      "metadata": {
        "colab": {
          "base_uri": "https://localhost:8080/"
        },
        "id": "Y_d5K4Se8sco",
        "outputId": "4734ef58-b5c2-443b-e987-9c0ce34129ec"
      },
      "execution_count": 10,
      "outputs": [
        {
          "output_type": "stream",
          "name": "stdout",
          "text": [
            "[(2, 1), (4, 2), (3, 3), (1, 4)]\n"
          ]
        }
      ]
    },
    {
      "cell_type": "code",
      "source": [
        "\n",
        "### Q9. Write a Python program that uses `map()` to convert a list of temperatures from Celsius to Fahrenheit.\n",
        "\n",
        "#Answer:-\n",
        "\n",
        "# List of temperatures in Celsius\n",
        "celsius_temperatures = [0, 20, 37, 100]\n",
        "\n",
        "# Function to convert Celsius to Fahrenheit\n",
        "def celsius_to_fahrenheit(celsius):\n",
        "    return (celsius * 9/5) + 32\n",
        "\n",
        "# Use map() to apply the conversion to each element in the list\n",
        "fahrenheit_temperatures = list(map(celsius_to_fahrenheit, celsius_temperatures))\n",
        "\n",
        "# Print the converted temperatures\n",
        "print(fahrenheit_temperatures)"
      ],
      "metadata": {
        "colab": {
          "base_uri": "https://localhost:8080/"
        },
        "id": "e9_gJ07n8wbc",
        "outputId": "ed06548d-4fc5-464b-dbdf-4e66eed84b17"
      },
      "execution_count": 11,
      "outputs": [
        {
          "output_type": "stream",
          "name": "stdout",
          "text": [
            "[32.0, 68.0, 98.6, 212.0]\n"
          ]
        }
      ]
    },
    {
      "cell_type": "code",
      "source": [
        "### Q10. # Function to check if a character is a vowel\n",
        "def is_not_vowel(char):\n",
        "    vowels = \"aeiouAEIOU\"  # List of vowels (both lowercase and uppercase)\n",
        "    return char not in vowels\n",
        "\n",
        "# Given string\n",
        "input_string = \"Hello, World!\"\n",
        "\n",
        "# Use filter() to remove vowels\n",
        "filtered_string = ''.join(filter(is_not_vowel, input_string))\n",
        "\n",
        "# Print the result\n",
        "print(filtered_string)"
      ],
      "metadata": {
        "colab": {
          "base_uri": "https://localhost:8080/"
        },
        "id": "mda-qcJg8zJf",
        "outputId": "2ce7e34c-ac27-45b8-dc62-5079a5ce3b47"
      },
      "execution_count": 12,
      "outputs": [
        {
          "output_type": "stream",
          "name": "stdout",
          "text": [
            "Hll, Wrld!\n"
          ]
        }
      ]
    },
    {
      "cell_type": "code",
      "source": [
        "### Q11.  Imagine an accounting routine used in a book shop. It works on a list with sublists, which look like this:\n",
        "\n",
        "# Answer:-\n",
        "\n",
        "orders = [\n",
        "    [34587, 'Learning Python, Mark Lutz', 4, 40.95],\n",
        "    [98762, 'Programming Python, Mark Lutz', 5, 56.80],\n",
        "    [77226, 'Head First Python, Paul Barry', 3, 32.95],\n",
        "    [88112, 'Einführung in Python3, Bernd Klein', 3, 24.99]\n",
        "]\n",
        "\n",
        "result = list(map(lambda order: (order[0], order[3] * order[2] + 10 if order[3] * order[2] < 100 else order[3] * order[2]), orders))\n",
        "\n",
        "print(result)"
      ],
      "metadata": {
        "colab": {
          "base_uri": "https://localhost:8080/"
        },
        "id": "yvEmXBUZ85HO",
        "outputId": "0c691e3a-84de-4afb-b7c2-3811d4dbde3f"
      },
      "execution_count": 13,
      "outputs": [
        {
          "output_type": "stream",
          "name": "stdout",
          "text": [
            "[(34587, 163.8), (98762, 284.0), (77226, 108.85000000000001), (88112, 84.97)]\n"
          ]
        }
      ]
    },
    {
      "cell_type": "markdown",
      "source": [],
      "metadata": {
        "id": "nC1T2s_C4Obn"
      }
    }
  ]
}